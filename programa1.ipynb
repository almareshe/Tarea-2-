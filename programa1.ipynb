{
  "nbformat": 4,
  "nbformat_minor": 0,
  "metadata": {
    "colab": {
      "provenance": [],
      "include_colab_link": true
    },
    "kernelspec": {
      "name": "python3",
      "display_name": "Python 3"
    }
  },
  "cells": [
    {
      "cell_type": "markdown",
      "metadata": {
        "id": "view-in-github",
        "colab_type": "text"
      },
      "source": [
        "<a href=\"https://colab.research.google.com/github/almareshe/Tarea-2-/blob/main/programa1.ipynb\" target=\"_parent\"><img src=\"https://colab.research.google.com/assets/colab-badge.svg\" alt=\"Open In Colab\"/></a>"
      ]
    },
    {
      "cell_type": "markdown",
      "metadata": {
        "id": "ARP8jOQFe8MC"
      },
      "source": [
        "# *Programa 1:*\n",
        "Conversiones:\n",
        "Crea funciones que conviertan un numero entero a una base a decimal y vicebersa (considera al menos hasta la base 16)\n",
        "Ademas agregar la conversion de binario a hexadecimal y de hexadecimal a binario.\n"
      ]
    },
    {
      "cell_type": "markdown",
      "metadata": {
        "id": "hzgchsXmgeWa"
      },
      "source": [
        "# Convierte un numero entero en una base dada a decimal\n",
        "\n",
        "\n",
        "\n",
        "\n"
      ]
    },
    {
      "cell_type": "code",
      "metadata": {
        "id": "Ax3zV6x-Ehed",
        "colab": {
          "base_uri": "https://localhost:8080/"
        },
        "outputId": "a419ad69-158f-488a-af8d-fe566c1357a4"
      },
      "source": [
        "numero=\"\"\n",
        "base= 0\n",
        "decimal=0\n",
        "a=[]\n",
        "numero=input(\"Ingrea el que quieres convertir a decimal: \")\n",
        "base= int(input(\"Ingresa la base del numero: \"))\n",
        "\n",
        "size=len(numero)\n",
        "\n",
        "for i in range(len(numero)):\n",
        "  a.append(numero[i])\n",
        "\n",
        "contador=size -1\n",
        "\n",
        "for i in range (size):\n",
        "  aux=int(a[i])*pow(base,contador)\n",
        "  contador = contador-1\n",
        "  decimal = decimal+aux\n",
        "\n",
        "print(\"El numero en decimal es = {} \" .format(decimal))"
      ],
      "execution_count": null,
      "outputs": [
        {
          "output_type": "stream",
          "text": [
            "Ingrea el que quieres convertir a decimal: 101\n",
            "Ingresa la base del numero: 2\n",
            "El numero en decimal es = 5 \n"
          ],
          "name": "stdout"
        }
      ]
    },
    {
      "cell_type": "markdown",
      "metadata": {
        "id": "DwKLhVZwg651"
      },
      "source": [
        "\n",
        "# Convierte decimal a una base dada "
      ]
    },
    {
      "cell_type": "code",
      "metadata": {
        "id": "kZjsh_x4-eFl",
        "colab": {
          "base_uri": "https://localhost:8080/"
        },
        "outputId": "ff251ce7-4598-477f-a36f-c0ecbfc2bcc1"
      },
      "source": [
        "def convertir(numero,base):\n",
        "  conversion='0123456789ABCDEF'\n",
        "\n",
        "  if numero < base:\n",
        "    return conversion[numero]\n",
        "  else:\n",
        "    return convertir(numero//base,base)+conversion[numero % base]\n",
        "\n",
        "numero=int(input(\"Ingrese el numero en decimal: \"))\n",
        "base=int(input(\"Ingrese la base a la que desea convertir: \"))\n",
        "resultado= convertir(numero,base)\n",
        "print(resultado)\n"
      ],
      "execution_count": null,
      "outputs": [
        {
          "output_type": "stream",
          "text": [
            "Ingrese el numero en decimal: 9\n",
            "Ingrese la base a la que desea convertir: 2\n",
            "1001\n"
          ],
          "name": "stdout"
        }
      ]
    },
    {
      "cell_type": "markdown",
      "metadata": {
        "id": "BEq75IW3iHKl"
      },
      "source": [
        "# Convierte de binario a hexadecimal"
      ]
    },
    {
      "cell_type": "code",
      "metadata": {
        "id": "bffPLyfAXMWA",
        "colab": {
          "base_uri": "https://localhost:8080/"
        },
        "outputId": "14555b4d-709d-42ed-9f47-94720b5f57dd"
      },
      "source": [
        "diccionariohexa = {'0000':'0','0001':'1','0010':'2','0011':'3','0100':'4','0101':'5','0110':'6','0111':'7','1000':'8','1001':'9','1010':'A','1011':'B','1100':'C','1101':'D','1110':'E','1111':'F'}\n",
        "bina = str(input(\"Ingrese el numero en BINARIO: \"))\n",
        "\n",
        "while (len(bina)%4)!=0:\n",
        "  bina=\"0\"+bina\n",
        "bina.split()\n",
        "\n",
        "lista=list(bina)\n",
        "lista1=[]\n",
        "\n",
        "for i in range(0,len(lista),4):\n",
        "  lista1.append(lista[i:i+4])\n",
        "\n",
        "lista2=[]\n",
        "\n",
        "for j in range(len(lista1)):\n",
        "  cadena=\"\".join(lista1[j])\n",
        "  lista2.append(cadena)\n",
        "\n",
        "lista3=[]\n",
        "\n",
        "for x in lista2:\n",
        "  if x in diccionariohexa:\n",
        "      lista3.append(diccionariohexa[x])\n",
        "\n",
        "hexadecimal=\"\".join(lista3)\n",
        "print(\"El numero HEXADECIMAL es: \",hexadecimal)"
      ],
      "execution_count": null,
      "outputs": [
        {
          "output_type": "stream",
          "text": [
            "Ingrese el numero en BINARIO: 1010101\n",
            "El numero HEXADECIMAL es:  55\n"
          ],
          "name": "stdout"
        }
      ]
    },
    {
      "cell_type": "markdown",
      "metadata": {
        "id": "nOediqcXiQeE"
      },
      "source": [
        "# Convierte de hexadecimal a binario "
      ]
    },
    {
      "cell_type": "code",
      "metadata": {
        "id": "-xpongZ_iYr6",
        "colab": {
          "base_uri": "https://localhost:8080/"
        },
        "outputId": "57796b2d-ccd5-4a0e-8662-a50ff6741b56"
      },
      "source": [
        "diccionariohex={'0':'0000', '1':'0001', '2': '0010', '3':'0011', '4':'0100','5':'0101','6':'0110','7':'0111', '8':'1000', '9':'1001', 'A':'1010', 'B':'1011','C':'1100','D':'1101','E':'1110','F':'1111' }\n",
        "hexa=input(\"introduce el numero hexadecimal: \")\n",
        "bina=[]\n",
        "\n",
        "for i in hexa:\n",
        "  if i in diccionariohex:\n",
        "    bina.append(diccionariohex[i])\n",
        "  else:\n",
        "    print(\"El caracter\",i,\"No es hexadecimal\")\n",
        "\n",
        "binario=('').join(bina)\n",
        "print(\"El numero en binario es: \",binario)"
      ],
      "execution_count": null,
      "outputs": [
        {
          "output_type": "stream",
          "text": [
            "introduce el numero hexadecimal: AAA\n",
            "El numero en binario es:  101010101010\n"
          ],
          "name": "stdout"
        }
      ]
    },
    {
      "cell_type": "code",
      "metadata": {
        "id": "lYwtUFfd3wyh"
      },
      "source": [],
      "execution_count": null,
      "outputs": []
    }
  ]
}